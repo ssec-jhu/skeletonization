{
 "cells": [
  {
   "cell_type": "code",
   "execution_count": null,
   "metadata": {},
   "outputs": [],
   "source": [
    "# Infer image using morpheus_core\n",
    "from morpheus_core import morpheus_core\n",
    "import torch\n",
    "import numpy as np\n",
    "import os\n",
    "import pickle\n",
    "import sys\n",
    "import cv2\n",
    "\n",
    "# Get the current working directory\n",
    "current_path = os.getcwd()\n",
    "print(\"Current Working Directory:\", current_path)\n",
    "# Get the parent directory\n",
    "parent_path = os.path.dirname(current_path)\n",
    "print(\"Parent Directory:\", parent_path)\n",
    "\n",
    "#sys.path.append(current_path)\n",
    "sys.path.append(parent_path)\n",
    "\n",
    "# Print the updated sys.path\n",
    "print(\"Updated sys.path:\")\n",
    "for p in sys.path:\n",
    "    print(p)\n",
    "\n",
    "# Find available GPU\n",
    "if torch.backends.mps.is_available(): # Check if PyTorch has access to MPS (Metal Performance Shader, Apple's GPU architecture)\n",
    "    print(\"MPS is available!\")\n",
    "    if torch.backends.mps.is_built():\n",
    "        print(\"MPS (Metal Performance Shader) is built in!\")    \n",
    "    device = \"mps\"\n",
    "elif torch.cuda.is_available(): # Check if PyTorch has access to CUDA (Win or Linux's GPU architecture)\n",
    "    print(\"CUDA is available!\")\n",
    "    device = \"cuda\"\n",
    "else:\n",
    "    print(\"Only CPU is available!\")\n",
    "    device = \"cpu\"\n",
    "print(f\"Using device: {device}\")\n",
    "\n",
    "#check out kernel\n",
    "print(\"Python executable:\", sys.executable)\n",
    "print(\"Python version:\", sys.version)\n",
    "\n",
    "# Load the pickle file\n",
    "pickle_file = \"../dataloader/annotation/dataset5.pkl\"\n",
    "with open(pickle_file, 'rb') as pkl_file:\n",
    "    data = pickle.load(pkl_file)  # Load the dictionary\n",
    "# Retrieve the val_files list\n",
    "val_files = data['val']\n",
    "prefix = \"../../../../OneDrive/NeuralMorphology/Simulations/Simulations_16bit_Size3334/images/Realistic-SBR-\"\n",
    "updated_files = [prefix + f for f in val_files]\n",
    "pgm_image = cv2.imread(updated_files[0], cv2.IMREAD_UNCHANGED)  # Load as grayscale\n",
    "pgm_image = cv2.convertScaleAbs(pgm_image, alpha=255.0 / pgm_image.max()) / 255.\n",
    "pgm_array = np.array(pgm_image)\n",
    "\n",
    "from model.unet_att import UnetAttention\n",
    "model = UnetAttention()\n",
    "model = model.to(device)\n",
    "ckpt = torch.load(\"../../../../OneDrive/NeuralMorphology/Simulations/Simulations_16bit_Size3334/output/ex1/ckpt.pth\", weights_only=False, map_location=device)\n",
    "model.load_state_dict(ckpt['model_state_dict'])\n",
    "model.eval()  # Set to evaluation mode\n",
    "\n",
    "model_inputs = pgm_array\n",
    "n_classes = 1             # number of classes that are output from the model\n",
    "batch_size = 16           # number of samples to extract per batch\n",
    "window_shape = (512, 512) # (height, width) of each sample\n",
    "gpus = [0, 1, 2]          # GPUs to use\n",
    "cpus = 4                  # number of CPU cores to use for data loading\n",
    "out_dir = \"../../../../OneDrive/NeuralMorphology/Simulations/Simulations_16bit_Size3334/output/ex1/evaluation/\"\n",
    "\n",
    "output_hduls, output_arrays = morpheus_core.predict(\n",
    "    model,        # your model in a callable from\n",
    "    model_inputs[:, :, np.newaxis], # list of numpy arrays or strings that point to fits files\n",
    "    n_classes,\n",
    "    batch_size,\n",
    "    window_shape,\n",
    ")\n",
    "\n"
   ]
  },
  {
   "cell_type": "code",
   "execution_count": 14,
   "metadata": {},
   "outputs": [
    {
     "data": {
      "text/plain": [
       "(3334, 3334)"
      ]
     },
     "execution_count": 14,
     "metadata": {},
     "output_type": "execute_result"
    }
   ],
   "source": [
    "model_inputs.shape"
   ]
  },
  {
   "cell_type": "code",
   "execution_count": 18,
   "metadata": {},
   "outputs": [
    {
     "data": {
      "text/plain": [
       "[(3334, 1, 1), (3334, 1)]"
      ]
     },
     "execution_count": 18,
     "metadata": {},
     "output_type": "execute_result"
    }
   ],
   "source": [
    "[oa.shape for oa in output_arrays]"
   ]
  },
  {
   "cell_type": "code",
   "execution_count": null,
   "metadata": {},
   "outputs": [],
   "source": []
  }
 ],
 "metadata": {
  "kernelspec": {
   "display_name": "skelneton",
   "language": "python",
   "name": "python3"
  },
  "language_info": {
   "codemirror_mode": {
    "name": "ipython",
    "version": 3
   },
   "file_extension": ".py",
   "mimetype": "text/x-python",
   "name": "python",
   "nbconvert_exporter": "python",
   "pygments_lexer": "ipython3",
   "version": "3.11.10"
  }
 },
 "nbformat": 4,
 "nbformat_minor": 4
}
