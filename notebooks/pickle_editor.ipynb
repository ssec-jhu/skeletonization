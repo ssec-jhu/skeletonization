{
 "cells": [
  {
   "cell_type": "code",
   "execution_count": null,
   "metadata": {},
   "outputs": [],
   "source": [
    "import os\n",
    "import pickle\n",
    "import random\n",
    "\n",
    "# Specify the directory\n",
    "folder_path = '../dataset/Starting Kit Pixel2/img_train_shape'\n",
    "\n",
    "# Initialize lists for train and val files\n",
    "train_files = []\n",
    "val_files = []\n",
    "\n",
    "# Loop through files and organize them\n",
    "for file_name in os.listdir(folder_path):\n",
    "    if file_name.endswith('.png'):  # Adjust as needed for other extensions\n",
    "        # Define criteria for splitting, e.g., keyword or random split\n",
    "        if random.random() < 0.75:  # Example criteria\n",
    "            train_files.append(file_name)\n",
    "        else:\n",
    "            val_files.append(file_name)\n",
    "\n",
    "# Create dictionary structure\n",
    "data = {'train': train_files, 'val': val_files}\n",
    "\n",
    "# Save to a .pkl file\n",
    "with open('../dataloader/annotation/dataset2.pkl', 'wb') as pkl_file:\n",
    "    pickle.dump(data, pkl_file)\n",
    "\n",
    "print(\"Data saved to dataloader/annotation/dataset2.pkl\")"
   ]
  },
  {
   "cell_type": "code",
   "execution_count": null,
   "metadata": {},
   "outputs": [],
   "source": [
    "import pickle\n",
    "\n",
    "with open('../dataloader/annotation/dataset2.pkl', 'rb') as file:\n",
    "    data = pickle.load(file)\n",
    "\n",
    "# Inspect the structure\n",
    "print(data)"
   ]
  },
  {
   "cell_type": "code",
   "execution_count": null,
   "metadata": {},
   "outputs": [
    {
     "name": "stdout",
     "output_type": "stream",
     "text": [
      "Conversion and resizing complete.\n"
     ]
    }
   ],
   "source": [
    "# Convert greylevel pgm files from 16 bit to 8 bit, resize it up to 1667x1667 and save it as png files\n",
    "\n",
    "import os\n",
    "import cv2\n",
    "\n",
    "# Specify the directory\n",
    "current_folder = '../dataset/Starting Kit Pixel/img_train_shape'\n",
    "\n",
    "# Loop through files and organize them\n",
    "for file_name in os.listdir(current_folder):\n",
    "    if file_name.endswith('.pgm'):  # Adjust as needed for other extensions\n",
    "        # Step 1: Read the 16-bit PGM image\n",
    "        full_file_name = os.path.join(current_folder, file_name)\n",
    "        image_16bit = cv2.imread(full_file_name, cv2.IMREAD_UNCHANGED)  # Load as-is for 16-bit\n",
    "\n",
    "        # Step 2: Normalize to 8-bit\n",
    "        image_8bit_temp = cv2.normalize(image_16bit, None, 0, 255, cv2.NORM_MINMAX, dtype=cv2.CV_8U)\n",
    "        image_8bit = cv2.equalizeHist(image_8bit_temp)\n",
    "        \n",
    "        # Step 3: Resize to 1667x1667 pixels\n",
    "        image_resized = cv2.resize(image_8bit, (256, 256), interpolation=cv2.INTER_AREA)\n",
    "\n",
    "        # Step 4: Save as 8-bit PNG\n",
    "        new_full_file_name = os.path.splitext(full_file_name)[0] + \".png\"\n",
    "        cv2.imwrite(new_full_file_name, image_resized)\n",
    "\n",
    "print(\"Conversion and resizing complete.\")"
   ]
  },
  {
   "cell_type": "code",
   "execution_count": null,
   "metadata": {},
   "outputs": [
    {
     "name": "stdout",
     "output_type": "stream",
     "text": [
      "Conversion and resizing complete.\n"
     ]
    }
   ],
   "source": [
    "# Convert binary pgm files from 16 bit to 8 bit, resize it up to 1667x1667 and save it as png files\n",
    "\n",
    "import os\n",
    "import cv2\n",
    "\n",
    "# Specify the directory\n",
    "current_folder = '../dataset/Starting Kit Pixel/img_train2'\n",
    "\n",
    "# Loop through files and organize them\n",
    "for file_name in os.listdir(current_folder):\n",
    "    if file_name.endswith('.pgm'):  # Adjust as needed for other extensions\n",
    "        # Step 1: Read the 16-bit PGM image\n",
    "        full_file_name = os.path.join(current_folder, file_name)\n",
    "        image_16bit = cv2.imread(full_file_name, cv2.IMREAD_UNCHANGED)  # Load as-is for 16-bit\n",
    "\n",
    "        # Step 2: Normalize to 8-bit\n",
    "        image_8bit = cv2.normalize(image_16bit, None, 0, 255, cv2.NORM_MINMAX, dtype=cv2.CV_8U)\n",
    "        \n",
    "        # Step 3: Resize to 1667x1667 pixels\n",
    "        image_resized = cv2.resize(image_8bit, (256, 256), interpolation=cv2.INTER_AREA)\n",
    "\n",
    "        # Step 4: Binarize\n",
    "        _, binary_image = cv2.threshold(image_resized, thresh=1, maxval=255, type=cv2.THRESH_BINARY)\n",
    "        \n",
    "        # Step 5: Save as 8-bit PNG\n",
    "        new_full_file_name = os.path.splitext(full_file_name)[0] + \".png\"\n",
    "        cv2.imwrite(new_full_file_name, binary_image)\n",
    "\n",
    "print(\"Conversion and resizing complete.\")"
   ]
  },
  {
   "cell_type": "code",
   "execution_count": null,
   "metadata": {},
   "outputs": [
    {
     "name": "stdout",
     "output_type": "stream",
     "text": [
      "Conversion and resizing complete.\n"
     ]
    }
   ],
   "source": [
    "# Resize greylevel pgm files from 1000x1000 to 1024x1024 and save it as png files\n",
    "\n",
    "import os\n",
    "import cv2\n",
    "import numpy as np\n",
    "\n",
    "# Specify the directory\n",
    "current_folder = '../dataset/Starting Kit Pixel2/img_train_shape'\n",
    "image = cv2.imread('../dataset/Starting Kit Pixel2/img_train_shape/Sample-1-time-36.00.pgm', cv2.IMREAD_UNCHANGED)  # Load as-is\n",
    "height, width = image.shape\n",
    "# Create a new array with padding, initialized to black (0)\n",
    "template_image = np.zeros((height+24, width+24), dtype=image.dtype)\n",
    "template_image[0:12, 12:12+width] = image[0:12, 0:width]\n",
    "template_image[height+12:height+24, 12:12+width] = image[height-12:height, 0:width]\n",
    "template_image[12:12+height, 0:12] = image[0:height, 0:12]\n",
    "template_image[12:12+height, width+12:width+24] = image[0:height, width-12:width]\n",
    "template_image[0:12, 0:12] = image[height-12:height, width-12:width]\n",
    "template_image[0:12, width+12:width+24] = image[height-12:height, 0:12]\n",
    "template_image[height+12:height+24, 0:12] = image[0:12, width-12:width]\n",
    "template_image[height+12:height+24, width+12:width+24] = image[0:12, 0:12]\n",
    "     \n",
    "# Loop through files and organize them\n",
    "for file_name in os.listdir(current_folder):\n",
    "    if file_name.endswith('.pgm'):  # Adjust as needed for other extensions\n",
    "        # Step 1: Read the PGM image\n",
    "        full_file_name = os.path.join(current_folder, file_name)\n",
    "        orig_image = cv2.imread(full_file_name, cv2.IMREAD_UNCHANGED)  # Load as-is\n",
    "\n",
    "        # Get the dimensions of the original image\n",
    "        height, width = orig_image.shape\n",
    "\n",
    "        # Create a new array with padding, initialized to black (0)\n",
    "        padded_image = template_image\n",
    "        padded_image[12:12+height, 12:12+width] = orig_image\n",
    "\n",
    "        # Step 4: Save as 8-bit PNG\n",
    "        new_full_file_name = os.path.splitext(full_file_name)[0] + \".png\"\n",
    "        cv2.imwrite(new_full_file_name, padded_image)\n",
    "\n",
    "print(\"Conversion and resizing complete.\")"
   ]
  },
  {
   "cell_type": "code",
   "execution_count": 12,
   "metadata": {},
   "outputs": [
    {
     "name": "stdout",
     "output_type": "stream",
     "text": [
      "Conversion and resizing complete.\n"
     ]
    }
   ],
   "source": [
    "# Resize binary pgm files from 1000x1000 to 1024x1024 and save it as png files\n",
    "\n",
    "import os\n",
    "import cv2\n",
    "import numpy as np\n",
    "\n",
    "# Specify the directory\n",
    "current_folder = '../dataset/Starting Kit Pixel2/img_train2'\n",
    "image = cv2.imread('../dataset/Starting Kit Pixel2/img_train2/Sample-1-time-36.00.pgm', cv2.IMREAD_UNCHANGED)  # Load as-is\n",
    "height, width = image.shape\n",
    "# Create a new array with padding, initialized to black (0)\n",
    "template_image = np.zeros((height+24, width+24), dtype=image.dtype)\n",
    "     \n",
    "# Loop through files and organize them\n",
    "for file_name in os.listdir(current_folder):\n",
    "    if file_name.endswith('.pgm'):  # Adjust as needed for other extensions\n",
    "        # Step 1: Read the PGM image\n",
    "        full_file_name = os.path.join(current_folder, file_name)\n",
    "        orig_image = cv2.imread(full_file_name, cv2.IMREAD_UNCHANGED)  # Load as-is\n",
    "\n",
    "        # Get the dimensions of the original image\n",
    "        height, width = orig_image.shape\n",
    "\n",
    "        # Create a new array with padding, initialized to black (0)\n",
    "        padded_image = template_image\n",
    "        padded_image[12:12+height, 12:12+width] = orig_image\n",
    "\n",
    "        # Step 4: Save as 8-bit PNG\n",
    "        new_full_file_name = os.path.splitext(full_file_name)[0] + \".png\"\n",
    "        cv2.imwrite(new_full_file_name, padded_image)\n",
    "\n",
    "print(\"Conversion and resizing complete.\")"
   ]
  }
 ],
 "metadata": {
  "kernelspec": {
   "display_name": "Python 3.9 (py39)",
   "language": "python",
   "name": "py39"
  },
  "language_info": {
   "codemirror_mode": {
    "name": "ipython",
    "version": 3
   },
   "file_extension": ".py",
   "mimetype": "text/x-python",
   "name": "python",
   "nbconvert_exporter": "python",
   "pygments_lexer": "ipython3",
   "version": "3.9.18"
  }
 },
 "nbformat": 4,
 "nbformat_minor": 4
}
