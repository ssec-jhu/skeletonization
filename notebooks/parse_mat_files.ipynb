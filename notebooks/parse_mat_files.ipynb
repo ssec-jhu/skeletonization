{
 "cells": [
  {
   "cell_type": "code",
   "execution_count": null,
   "metadata": {},
   "outputs": [],
   "source": [
    "# Parse mat (Matlab workspace) file\n",
    "import os\n",
    "os.environ[\"PYDEVD_WARN_SLOW_RESOLVE_TIMEOUT\"] = \"11.0\"\n",
    "\n",
    "import scipy.io\n",
    "import numpy as np\n",
    "\n",
    "# Load the .mat file\n",
    "mat_data = scipy.io.loadmat('../../../Projects/NeuralMorphology/Matlab/SkeletonAnalysis.mat')\n",
    "\n",
    "# Print the keys to see what variables are stored\n",
    "print(mat_data.keys())\n",
    "\n",
    "# Access a specific variable (e.g., 'data')\n",
    "dendrite = mat_data['Skeletonized']\n",
    "#print(dendrite[0])\n",
    "\n",
    "print(type(dendrite))      # Should be <class 'numpy.ndarray'>\n",
    "print(dendrite.shape)      # Shape of the array\n",
    "print(dendrite.dtype)      # Data type of elements\n",
    "\n",
    "Neuron = dendrite[0, 0]\n",
    "print(type(Neuron))      # Should be <class 'numpy.ndarray'>\n",
    "print(Neuron.shape)      # Shape of the array\n",
    "print(Neuron.dtype)\n",
    "\n",
    "if dendrite.dtype.names:  # Check if it's a structured array\n",
    "    for name in dendrite.dtype.names:\n",
    "        print(f\"Field '{name}'\\n\")  # Access fields\n",
    "\n",
    "branches = [dendrite[i, 0]['Branch'] for i in range(dendrite.shape[0])]\n",
    "print(branches[0].shape) \n",
    "print(branches[0].dtype)\n",
    "\n",
    "print(branches[0]['Subtree'].shape) \n",
    "print(branches[0]['Subtree'].dtype)\n",
    "\n",
    "print(branches[0]['Subtree'][0, 0].shape)\n",
    "print(branches[0]['Subtree'][0, 0].dtype)\n",
    "print(branches[0]['Subtree'][0, 0]['NTippoints'])\n",
    "print(branches[0]['Subtree'][0, 0]['NTippoints'][0,0].item())\n",
    "\n",
    "print(branches[0]['Subtree'][0, 0]['NBranches'])\n",
    "\n",
    "print(dendrite[0]['Branch'][0]['Subtree'][0,0]['NBranches'])\n",
    "\n",
    "print(dendrite[0]['Neuron'][0]['info'][0,0]['ColorType'][0,0].item())\n",
    "\n",
    "print(branches[0]['Subtree'][0, 0]['skel'][0,0]['level'].shape, branches[0]['Subtree'][0, 0]['skel'][0,0]['level'].dtype)"
   ]
  },
  {
   "cell_type": "code",
   "execution_count": null,
   "metadata": {},
   "outputs": [],
   "source": []
  }
 ],
 "metadata": {
  "kernelspec": {
   "display_name": "Python 3.12 (py312)",
   "language": "python",
   "name": "py312"
  },
  "language_info": {
   "codemirror_mode": {
    "name": "ipython",
    "version": 3
   },
   "file_extension": ".py",
   "mimetype": "text/x-python",
   "name": "python",
   "nbconvert_exporter": "python",
   "pygments_lexer": "ipython3",
   "version": "3.12.7"
  }
 },
 "nbformat": 4,
 "nbformat_minor": 4
}
